{
 "cells": [
  {
   "cell_type": "code",
   "execution_count": null,
   "metadata": {},
   "outputs": [
    {
     "name": "stdout",
     "output_type": "stream",
     "text": [
      "Populating the interactive namespace from numpy and matplotlib\n"
     ]
    }
   ],
   "source": [
    "import pandas as pd\n",
    "import numpy as np\n",
    "from matplotlib import pylab as pl\n",
    "import sklearn \n",
    "%pylab inline\n",
    "#from sklearn.neighbors import LocalOutlierFactor\n",
    "from sklearn.model_selection import cross_val_score\n"
   ]
  },
  {
   "cell_type": "code",
   "execution_count": 13,
   "metadata": {},
   "outputs": [],
   "source": [
    "df_train = pd.read_csv('Comp_train.csv')"
   ]
  },
  {
   "cell_type": "code",
   "execution_count": 15,
   "metadata": {},
   "outputs": [],
   "source": [
    "df_train = df_train.drop(df_train.columns[10:], axis=1)\n",
    "#df_train"
   ]
  },
  {
   "cell_type": "code",
   "execution_count": 16,
   "metadata": {},
   "outputs": [],
   "source": [
    "Y_train = df_train['J'].values.astype(np.int)"
   ]
  },
  {
   "cell_type": "code",
   "execution_count": 18,
   "metadata": {},
   "outputs": [],
   "source": [
    "X_train = df_train.drop(df_train.columns[9:], axis=1)\n"
   ]
  },
  {
   "cell_type": "code",
   "execution_count": 20,
   "metadata": {},
   "outputs": [],
   "source": [
    "from sklearn import tree\n",
    "dtc = tree.DecisionTreeClassifier()"
   ]
  },
  {
   "cell_type": "code",
   "execution_count": 40,
   "metadata": {},
   "outputs": [],
   "source": [
    "#создание пайплайна\n",
    "from sklearn.svm import SVC\n",
    "from sklearn.pipeline import Pipeline\n",
    "from sklearn.decomposition import FactorAnalysis\n",
    "from sklearn.preprocessing import MinMaxScaler\n",
    "\n",
    "estimators = [('mms', MinMaxScaler()), ('fa', FactorAnalysis()) , ('clf', SVC())]\n",
    "\n",
    "pipe =  Pipeline(estimators)"
   ]
  },
  {
   "cell_type": "code",
   "execution_count": 51,
   "metadata": {},
   "outputs": [],
   "source": [
    "#задание сетки параметров\n",
    "param_grid = dict(\n",
    "                mms=[MinMaxScaler(), None],\n",
    "                fa=[FactorAnalysis()],\n",
    "                fa__n_components=[5,6,7,8,9],\n",
    "                fa__svd_method=['randomized'],\n",
    "                fa__iterated_power=[1,2,3],\n",
    "                clf=[SVC()],\n",
    "                clf__C=range(5,15),\n",
    "                clf__kernel=['rbf', 'linear'],\n",
    "                clf__class_weight=['balanced', None]\n",
    "                )"
   ]
  },
  {
   "cell_type": "code",
   "execution_count": 52,
   "metadata": {},
   "outputs": [
    {
     "data": {
      "text/plain": [
       "{'clf': SVC(C=11, cache_size=200, class_weight='balanced', coef0=0.0,\n",
       "   decision_function_shape='ovr', degree=3, gamma='auto', kernel='rbf',\n",
       "   max_iter=-1, probability=False, random_state=None, shrinking=True,\n",
       "   tol=0.001, verbose=False),\n",
       " 'clf__C': 11,\n",
       " 'clf__class_weight': 'balanced',\n",
       " 'clf__kernel': 'rbf',\n",
       " 'fa': FactorAnalysis(copy=True, iterated_power=1, max_iter=1000, n_components=9,\n",
       "         noise_variance_init=None, random_state=0, svd_method='randomized',\n",
       "         tol=0.01),\n",
       " 'fa__iterated_power': 1,\n",
       " 'fa__n_components': 9,\n",
       " 'fa__svd_method': 'randomized',\n",
       " 'mms': None}"
      ]
     },
     "execution_count": 52,
     "metadata": {},
     "output_type": "execute_result"
    }
   ],
   "source": [
    "#поиск лучших параметров\n",
    "from sklearn.model_selection import GridSearchCV\n",
    "grid_search = GridSearchCV(pipe, param_grid=param_grid, cv=10, n_jobs=-1)\n",
    "grid_search.fit(X_train, Y_train)\n",
    "grid_search.best_params_"
   ]
  },
  {
   "cell_type": "code",
   "execution_count": 53,
   "metadata": {},
   "outputs": [
    {
     "data": {
      "text/plain": [
       "0.52666666666666662"
      ]
     },
     "execution_count": 53,
     "metadata": {},
     "output_type": "execute_result"
    }
   ],
   "source": [
    "#точность распознавания\n",
    "grid_search.best_score_"
   ]
  },
  {
   "cell_type": "code",
   "execution_count": 54,
   "metadata": {},
   "outputs": [
    {
     "data": {
      "text/plain": [
       "0.56333333333333335"
      ]
     },
     "execution_count": 54,
     "metadata": {},
     "output_type": "execute_result"
    }
   ],
   "source": [
    "#точность на обучающей выборке для оценки переобученности\n",
    "clf = grid_search.best_estimator_\n",
    "clf.score(X_train, Y_train)"
   ]
  },
  {
   "cell_type": "code",
   "execution_count": 63,
   "metadata": {},
   "outputs": [],
   "source": [
    "df_test = pd.read_csv('Comp_test.csv')\n",
    "X_test = df_test.drop(df_test.columns[9:], axis=1)\n"
   ]
  },
  {
   "cell_type": "code",
   "execution_count": 64,
   "metadata": {},
   "outputs": [],
   "source": [
    "result = clf.predict(X_test)"
   ]
  },
  {
   "cell_type": "code",
   "execution_count": 79,
   "metadata": {},
   "outputs": [],
   "source": [
    "columns = ['result']\n",
    "df = pd.DataFrame(result, columns=columns)\n",
    "df.to_csv(\"pospelov_results.csv\", index=None)"
   ]
  },
  {
   "cell_type": "code",
   "execution_count": 17,
   "metadata": {},
   "outputs": [
    {
     "ename": "SyntaxError",
     "evalue": "invalid syntax (<ipython-input-17-6869022c4363>, line 1)",
     "output_type": "error",
     "traceback": [
      "\u001b[0;36m  File \u001b[0;32m\"<ipython-input-17-6869022c4363>\"\u001b[0;36m, line \u001b[0;32m1\u001b[0m\n\u001b[0;31m    0.47333333333333333 {'svc__C': 5, 'svc__kernel': 'rbf'}\u001b[0m\n\u001b[0m                        ^\u001b[0m\n\u001b[0;31mSyntaxError\u001b[0m\u001b[0;31m:\u001b[0m invalid syntax\n"
     ]
    }
   ],
   "source": [
    "# 0.47333333333333333 {'svc__C': 5, 'svc__kernel': 'rbf'} \n",
    "\n",
    "\n",
    "# 0.5033333333333333 {'clf': RandomForestClassifier(bootstrap=True, class_weight=None, criterion='gini',\n",
    "#              max_depth=3, max_features=6, max_leaf_nodes=None,\n",
    "#              min_impurity_decreas[3]e=0.0, min_impurity_split=None,\n",
    "#              min_samples_leaf=1, min_samples_split=2,\n",
    "#              min_weight_fraction_leaf=0.0, n_estimators=100, n_jobs=-1,\n",
    "#              oob_score=False, random_state=None, verbose=0,\n",
    "#              warm_start=False),\n",
    "#  'clf__max_depth': 3,\n",
    "#  'clf__max_features': 6,\n",
    "#  'reduce_dim': None}\n",
    "\n",
    "\n",
    "# 0.51000000000000001 {'clf': SVC(C=1.0, cache_size=200, class_weight=None, coef0=0.0,\n",
    "#    decision_function_shape='ovr', degree=3, gamma='auto', kernel='rbf',\n",
    "#    max_iter=-1, probability=False, random_state=None, shrinking=True,\n",
    "#    tol=0.001, verbose=False),\n",
    "#  'fa': FactorAnalysis(copy=True, iterated_power=3, max_iter=1000, n_components=3,\n",
    "#          noise_variance_init=None, random_state=0, svd_method='randomized',\n",
    "#          tol=0.01),\n",
    "#  'fa__n_components': 3,\n",
    "#  'reduce_dim': None,\n",
    "#  'scaler': None}\n",
    "\n",
    "\n",
    "# 0.51666666666666672 {'clf': SVC(C=10, cache_size=200, class_weight=None, coef0=0.0,\n",
    "#    decision_function_shape='ovr', degree=3, gamma='auto', kernel='rbf',\n",
    "#    max_iter=-1, probability=False, random_state=None, shrinking=True,\n",
    "#    tol=0.001, verbose=False),\n",
    "#  'clf__C': 10,\n",
    "#  'fa': FactorAnalysis(copy=True, iterated_power=3, max_iter=1000, n_components=10,\n",
    "#          noise_variance_init=None, random_state=0, svd_method='lapack',\n",
    "#          tol=0.01),\n",
    "#  'fa__n_components': 10,\n",
    "#  'fa__svd_method': 'lapack',\n",
    "#  'reduce_dim': None,\n",
    "#  'scaler': None}\n",
    "\n",
    "\n",
    "# 0.52333333333333332 {'clf': RandomForestClassifier(bootstrap=True, class_weight=None, criterion='gini',\n",
    "#              max_depth=3, max_features=7, max_leaf_nodes=None,\n",
    "#              min_impurity_decrease=0.0, min_impurity_split=None,\n",
    "#              min_samples_leaf=1, min_samples_split=2,\n",
    "#              min_weight_fraction_leaf=0.0, n_estimators=10, n_jobs=1,\n",
    "#              oob_score=False, random_state=None, verbose=0,\n",
    "#              warm_start=False),\n",
    "#  'clf__max_depth': 3,\n",
    "#  'clf__max_features': 7,\n",
    "#  'clf__n_estimators': 10,\n",
    "#  'fa': None}\n",
    "\n",
    "\n",
    "# 0.52666666666666662{'clf': SVC(C=11, cache_size=200, class_weight='balanced', coef0=0.0,\n",
    "#    decision_function_shape='ovr', degree=3, gamma='auto', kernel='rbf',\n",
    "#    max_iter=-1, probability=False, random_state=None, shrinking=True,\n",
    "#    tol=0.001, verbose=False),\n",
    "#  'clf__C': 11,\n",
    "#  'clf__class_weight': 'balanced',\n",
    "#  'clf__kernel': 'rbf',\n",
    "#  'fa': FactorAnalysis(copy=True, iterated_power=3, max_iter=1000, n_components=None,\n",
    "#          noise_variance_init=None, random_state=0, svd_method='randomized',\n",
    "#          tol=0.01)}\n"
   ]
  },
  {
   "cell_type": "code",
   "execution_count": null,
   "metadata": {},
   "outputs": [],
   "source": []
  }
 ],
 "metadata": {
  "kernelspec": {
   "display_name": "Python 3",
   "language": "python",
   "name": "python3"
  },
  "language_info": {
   "codemirror_mode": {
    "name": "ipython",
    "version": 3
   },
   "file_extension": ".py",
   "mimetype": "text/x-python",
   "name": "python",
   "nbconvert_exporter": "python",
   "pygments_lexer": "ipython3",
   "version": "3.6.4"
  }
 },
 "nbformat": 4,
 "nbformat_minor": 1
}
